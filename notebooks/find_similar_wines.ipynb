{
 "cells": [
  {
   "cell_type": "code",
   "execution_count": 1,
   "metadata": {
    "collapsed": true
   },
   "outputs": [],
   "source": [
    "import pandas as pd\n",
    "import numpy as np\n",
    "import matplotlib.pyplot as plt\n",
    "import os\n",
    "import nltk\n",
    "import re\n",
    "import pickle\n",
    "from scipy import sparse\n",
    "\n",
    "from sklearn.feature_extraction.text import TfidfVectorizer\n",
    "from sklearn.feature_extraction.text import CountVectorizer\n",
    "from sklearn.neighbors import NearestNeighbors\n",
    "from nltk.corpus import stopwords\n",
    "from nltk.stem.porter import *\n",
    "from textblob import TextBlob\n",
    "from textblob import Word\n",
    "from collections import Counter\n",
    "from nltk import word_tokenize\n",
    "from nltk import sent_tokenize\n",
    "\n",
    "%matplotlib inline"
   ]
  },
  {
   "cell_type": "code",
   "execution_count": 2,
   "metadata": {
    "collapsed": true
   },
   "outputs": [],
   "source": [
    "os.chdir('/home/fykos/Documents/workspace/wine_beer_exploration/')"
   ]
  },
  {
   "cell_type": "code",
   "execution_count": 3,
   "metadata": {
    "collapsed": true
   },
   "outputs": [],
   "source": [
    "wine = pd.read_csv('data/raw/winemag-data-130k-v2.csv')"
   ]
  },
  {
   "cell_type": "code",
   "execution_count": 4,
   "metadata": {},
   "outputs": [
    {
     "data": {
      "text/plain": [
       "(129971, 14)"
      ]
     },
     "execution_count": 4,
     "metadata": {},
     "output_type": "execute_result"
    }
   ],
   "source": [
    "# drop all duplicates and check how many left\n",
    "new_wine = wine.drop_duplicates()\n",
    "new_wine.shape"
   ]
  },
  {
   "cell_type": "code",
   "execution_count": 5,
   "metadata": {},
   "outputs": [
    {
     "data": {
      "text/html": [
       "<div>\n",
       "<style>\n",
       "    .dataframe thead tr:only-child th {\n",
       "        text-align: right;\n",
       "    }\n",
       "\n",
       "    .dataframe thead th {\n",
       "        text-align: left;\n",
       "    }\n",
       "\n",
       "    .dataframe tbody tr th {\n",
       "        vertical-align: top;\n",
       "    }\n",
       "</style>\n",
       "<table border=\"1\" class=\"dataframe\">\n",
       "  <thead>\n",
       "    <tr style=\"text-align: right;\">\n",
       "      <th></th>\n",
       "      <th>columns</th>\n",
       "      <th>missing value count</th>\n",
       "      <th>missing value percentage</th>\n",
       "    </tr>\n",
       "  </thead>\n",
       "  <tbody>\n",
       "    <tr>\n",
       "      <th>0</th>\n",
       "      <td>Unnamed: 0</td>\n",
       "      <td>0</td>\n",
       "      <td>0.00%</td>\n",
       "    </tr>\n",
       "    <tr>\n",
       "      <th>1</th>\n",
       "      <td>country</td>\n",
       "      <td>63</td>\n",
       "      <td>0.05%</td>\n",
       "    </tr>\n",
       "    <tr>\n",
       "      <th>2</th>\n",
       "      <td>description</td>\n",
       "      <td>0</td>\n",
       "      <td>0.00%</td>\n",
       "    </tr>\n",
       "    <tr>\n",
       "      <th>3</th>\n",
       "      <td>designation</td>\n",
       "      <td>37465</td>\n",
       "      <td>28.83%</td>\n",
       "    </tr>\n",
       "    <tr>\n",
       "      <th>4</th>\n",
       "      <td>points</td>\n",
       "      <td>0</td>\n",
       "      <td>0.00%</td>\n",
       "    </tr>\n",
       "    <tr>\n",
       "      <th>5</th>\n",
       "      <td>price</td>\n",
       "      <td>8996</td>\n",
       "      <td>6.92%</td>\n",
       "    </tr>\n",
       "    <tr>\n",
       "      <th>6</th>\n",
       "      <td>province</td>\n",
       "      <td>63</td>\n",
       "      <td>0.05%</td>\n",
       "    </tr>\n",
       "    <tr>\n",
       "      <th>7</th>\n",
       "      <td>region_1</td>\n",
       "      <td>21247</td>\n",
       "      <td>16.35%</td>\n",
       "    </tr>\n",
       "    <tr>\n",
       "      <th>8</th>\n",
       "      <td>region_2</td>\n",
       "      <td>79460</td>\n",
       "      <td>61.14%</td>\n",
       "    </tr>\n",
       "    <tr>\n",
       "      <th>9</th>\n",
       "      <td>taster_name</td>\n",
       "      <td>26244</td>\n",
       "      <td>20.19%</td>\n",
       "    </tr>\n",
       "    <tr>\n",
       "      <th>10</th>\n",
       "      <td>taster_twitter_handle</td>\n",
       "      <td>31213</td>\n",
       "      <td>24.02%</td>\n",
       "    </tr>\n",
       "    <tr>\n",
       "      <th>11</th>\n",
       "      <td>title</td>\n",
       "      <td>0</td>\n",
       "      <td>0.00%</td>\n",
       "    </tr>\n",
       "    <tr>\n",
       "      <th>12</th>\n",
       "      <td>variety</td>\n",
       "      <td>1</td>\n",
       "      <td>0.00%</td>\n",
       "    </tr>\n",
       "    <tr>\n",
       "      <th>13</th>\n",
       "      <td>winery</td>\n",
       "      <td>0</td>\n",
       "      <td>0.00%</td>\n",
       "    </tr>\n",
       "  </tbody>\n",
       "</table>\n",
       "</div>"
      ],
      "text/plain": [
       "                  columns  missing value count missing value percentage\n",
       "0              Unnamed: 0                    0                    0.00%\n",
       "1                 country                   63                    0.05%\n",
       "2             description                    0                    0.00%\n",
       "3             designation                37465                   28.83%\n",
       "4                  points                    0                    0.00%\n",
       "5                   price                 8996                    6.92%\n",
       "6                province                   63                    0.05%\n",
       "7                region_1                21247                   16.35%\n",
       "8                region_2                79460                   61.14%\n",
       "9             taster_name                26244                   20.19%\n",
       "10  taster_twitter_handle                31213                   24.02%\n",
       "11                  title                    0                    0.00%\n",
       "12                variety                    1                    0.00%\n",
       "13                 winery                    0                    0.00%"
      ]
     },
     "execution_count": 5,
     "metadata": {},
     "output_type": "execute_result"
    }
   ],
   "source": [
    "# check again for missing values\n",
    "data = []\n",
    "for col in new_wine.columns:\n",
    "    data.append([col, new_wine[col].isnull().sum(), '{:.2f}%'.format((new_wine[col].isnull().sum())/len(new_wine[col])*100) ])\n",
    "df = pd.DataFrame(data, columns=['columns', 'missing value count', 'missing value percentage'])\n",
    "df"
   ]
  },
  {
   "cell_type": "code",
   "execution_count": 6,
   "metadata": {},
   "outputs": [
    {
     "data": {
      "text/plain": [
       "(70175, 14)"
      ]
     },
     "execution_count": 6,
     "metadata": {},
     "output_type": "execute_result"
    }
   ],
   "source": [
    "# I will remove all the rows that have missing values in the country and province column\n",
    "# I will still have plenty to work with\n",
    "new_wine = new_wine.dropna(subset=['country', 'designation', 'price', 'region_1'])\n",
    "new_wine.shape"
   ]
  },
  {
   "cell_type": "code",
   "execution_count": 7,
   "metadata": {
    "collapsed": true
   },
   "outputs": [],
   "source": [
    "new_wine.drop(['Unnamed: 0', 'region_2', 'taster_name', 'taster_twitter_handle', 'designation', 'title'], axis = 1, inplace = True)"
   ]
  },
  {
   "cell_type": "code",
   "execution_count": 8,
   "metadata": {
    "collapsed": true
   },
   "outputs": [],
   "source": [
    "new_wine.reset_index(inplace=True)"
   ]
  },
  {
   "cell_type": "code",
   "execution_count": 9,
   "metadata": {
    "collapsed": true
   },
   "outputs": [],
   "source": [
    "new_wine.drop('index', axis = 1, inplace = True)"
   ]
  },
  {
   "cell_type": "code",
   "execution_count": 10,
   "metadata": {},
   "outputs": [
    {
     "data": {
      "text/html": [
       "<div>\n",
       "<style>\n",
       "    .dataframe thead tr:only-child th {\n",
       "        text-align: right;\n",
       "    }\n",
       "\n",
       "    .dataframe thead th {\n",
       "        text-align: left;\n",
       "    }\n",
       "\n",
       "    .dataframe tbody tr th {\n",
       "        vertical-align: top;\n",
       "    }\n",
       "</style>\n",
       "<table border=\"1\" class=\"dataframe\">\n",
       "  <thead>\n",
       "    <tr style=\"text-align: right;\">\n",
       "      <th></th>\n",
       "      <th>country</th>\n",
       "      <th>description</th>\n",
       "      <th>points</th>\n",
       "      <th>price</th>\n",
       "      <th>province</th>\n",
       "      <th>region_1</th>\n",
       "      <th>variety</th>\n",
       "      <th>winery</th>\n",
       "    </tr>\n",
       "  </thead>\n",
       "  <tbody>\n",
       "    <tr>\n",
       "      <th>0</th>\n",
       "      <td>US</td>\n",
       "      <td>Pineapple rind, lemon pith and orange blossom ...</td>\n",
       "      <td>87</td>\n",
       "      <td>13.0</td>\n",
       "      <td>Michigan</td>\n",
       "      <td>Lake Michigan Shore</td>\n",
       "      <td>Riesling</td>\n",
       "      <td>St. Julian</td>\n",
       "    </tr>\n",
       "    <tr>\n",
       "      <th>1</th>\n",
       "      <td>US</td>\n",
       "      <td>Much like the regular bottling from 2012, this...</td>\n",
       "      <td>87</td>\n",
       "      <td>65.0</td>\n",
       "      <td>Oregon</td>\n",
       "      <td>Willamette Valley</td>\n",
       "      <td>Pinot Noir</td>\n",
       "      <td>Sweet Cheeks</td>\n",
       "    </tr>\n",
       "    <tr>\n",
       "      <th>2</th>\n",
       "      <td>Spain</td>\n",
       "      <td>Blackberry and raspberry aromas show a typical...</td>\n",
       "      <td>87</td>\n",
       "      <td>15.0</td>\n",
       "      <td>Northern Spain</td>\n",
       "      <td>Navarra</td>\n",
       "      <td>Tempranillo-Merlot</td>\n",
       "      <td>Tandem</td>\n",
       "    </tr>\n",
       "  </tbody>\n",
       "</table>\n",
       "</div>"
      ],
      "text/plain": [
       "  country                                        description  points  price  \\\n",
       "0      US  Pineapple rind, lemon pith and orange blossom ...      87   13.0   \n",
       "1      US  Much like the regular bottling from 2012, this...      87   65.0   \n",
       "2   Spain  Blackberry and raspberry aromas show a typical...      87   15.0   \n",
       "\n",
       "         province             region_1             variety        winery  \n",
       "0        Michigan  Lake Michigan Shore            Riesling    St. Julian  \n",
       "1          Oregon    Willamette Valley          Pinot Noir  Sweet Cheeks  \n",
       "2  Northern Spain              Navarra  Tempranillo-Merlot        Tandem  "
      ]
     },
     "execution_count": 10,
     "metadata": {},
     "output_type": "execute_result"
    }
   ],
   "source": [
    "new_wine.head(3)"
   ]
  },
  {
   "cell_type": "markdown",
   "metadata": {},
   "source": [
    "# Processing the descriptions to use in nearest neighbors"
   ]
  },
  {
   "cell_type": "code",
   "execution_count": 11,
   "metadata": {
    "collapsed": true
   },
   "outputs": [],
   "source": [
    "def normalize(review):\n",
    "    review_letters = re.sub('[^a-zA-Z]', ' ', str(review))\n",
    "    review_letters = review_letters.lower()\n",
    "    return (\" \".join(review_letters.split()))"
   ]
  },
  {
   "cell_type": "code",
   "execution_count": 12,
   "metadata": {
    "collapsed": true
   },
   "outputs": [],
   "source": [
    "def remove_stopwords(review):\n",
    "    stop_words = set(stopwords.words('english'))\n",
    "    ls = [word for word in review.split() if word not in stop_words]\n",
    "    txt = \" \".join(ls)\n",
    "    return (txt)"
   ]
  },
  {
   "cell_type": "code",
   "execution_count": 13,
   "metadata": {
    "collapsed": true
   },
   "outputs": [],
   "source": [
    "def lemmatizing(review):\n",
    "    words = TextBlob(review).words.singularize()\n",
    "    return (\" \".join(words))"
   ]
  },
  {
   "cell_type": "code",
   "execution_count": null,
   "metadata": {
    "collapsed": true
   },
   "outputs": [],
   "source": [
    "# this list is to be given as input to word2vec because is word tokenized\n",
    "wine_processed_reviews = []\n",
    "for review in new_wine['description']:\n",
    "    wine_processed_reviews.append(lemmatizing(remove_stopwords(normalize(review))))"
   ]
  },
  {
   "cell_type": "code",
   "execution_count": 69,
   "metadata": {
    "collapsed": true
   },
   "outputs": [],
   "source": [
    "# stops = ['wine', 'syrup', 'cake', 'cheese', 'cream', 'bean', 'hard', 'milk', 'sauce', 'barbecue', 'steak', 'rock', 'powder', 'ruby', 'oil', 'salt', 'pastry', 'flesh', 'bitter', 'sugar', 'leather', 'herbal', 'creamy', 'table', 'brown', 'golden', 'gold', 'extract', 'broad', 'natural', 'salmon', 'tongue', 'dry', 'pure', 'root', 'sea', 'port', 'chewy', 'solid', 'blue', 'pink', 'ground', 'beef', 'purple', 'spring', 'lean', 'raw', 'red', 'black', 'white', 'yellow', 'mature', 'tropical', 'meat', 'wild', 'new', 'juice', 'firm', 'sweet', 'fresh', 'light', 'flower', 'green', 'soft', 'skin', 'spice', 'dark', 'herb', 'palate', 'valley', 'finish', 'drink', 'flavor', 'fruit', 'aroma', 'note', 'texture', 'thi', 'acidity']\n",
    "tfidf_vectorizer = TfidfVectorizer(ngram_range=(1,2))\n",
    "tfidf_matrix = tfidf_vectorizer.fit_transform(wine_processed_reviews)"
   ]
  },
  {
   "cell_type": "code",
   "execution_count": 70,
   "metadata": {
    "collapsed": true
   },
   "outputs": [],
   "source": [
    "# features holds a list of all the words in the tfidf's vocabulary in the same order as the column in the matrix\n",
    "features = tfidf_vectorizer.get_feature_names()\n",
    "weights = np.asarray(tfidf_matrix.mean(axis=0)).ravel().tolist()\n",
    "weights_df = pd.DataFrame({'term':features, 'weights':weights})\n",
    "weights_df = weights_df.sort_values(by='weights', ascending=False)"
   ]
  },
  {
   "cell_type": "code",
   "execution_count": 71,
   "metadata": {
    "collapsed": true
   },
   "outputs": [],
   "source": [
    "new_wine.drop('description', axis = 1, inplace = True)"
   ]
  },
  {
   "cell_type": "code",
   "execution_count": 72,
   "metadata": {
    "collapsed": true
   },
   "outputs": [],
   "source": [
    "new_wine['country'] = new_wine['country'].astype('category').cat.codes\n",
    "new_wine['province'] = new_wine['province'].astype('category').cat.codes\n",
    "new_wine['region_1'] = new_wine['region_1'].astype('category').cat.codes\n",
    "new_wine['variety'] = new_wine['variety'].astype('category').cat.codes\n",
    "new_wine['winery'] = new_wine['winery'].astype('category').cat.codes"
   ]
  },
  {
   "cell_type": "code",
   "execution_count": 73,
   "metadata": {},
   "outputs": [
    {
     "data": {
      "text/html": [
       "<div>\n",
       "<style>\n",
       "    .dataframe thead tr:only-child th {\n",
       "        text-align: right;\n",
       "    }\n",
       "\n",
       "    .dataframe thead th {\n",
       "        text-align: left;\n",
       "    }\n",
       "\n",
       "    .dataframe tbody tr th {\n",
       "        vertical-align: top;\n",
       "    }\n",
       "</style>\n",
       "<table border=\"1\" class=\"dataframe\">\n",
       "  <thead>\n",
       "    <tr style=\"text-align: right;\">\n",
       "      <th></th>\n",
       "      <th>country</th>\n",
       "      <th>points</th>\n",
       "      <th>price</th>\n",
       "      <th>province</th>\n",
       "      <th>region_1</th>\n",
       "      <th>variety</th>\n",
       "      <th>winery</th>\n",
       "    </tr>\n",
       "  </thead>\n",
       "  <tbody>\n",
       "    <tr>\n",
       "      <th>0</th>\n",
       "      <td>6</td>\n",
       "      <td>87</td>\n",
       "      <td>13.0</td>\n",
       "      <td>30</td>\n",
       "      <td>486</td>\n",
       "      <td>325</td>\n",
       "      <td>8549</td>\n",
       "    </tr>\n",
       "    <tr>\n",
       "      <th>1</th>\n",
       "      <td>6</td>\n",
       "      <td>87</td>\n",
       "      <td>65.0</td>\n",
       "      <td>43</td>\n",
       "      <td>1097</td>\n",
       "      <td>300</td>\n",
       "      <td>8684</td>\n",
       "    </tr>\n",
       "    <tr>\n",
       "      <th>2</th>\n",
       "      <td>5</td>\n",
       "      <td>87</td>\n",
       "      <td>15.0</td>\n",
       "      <td>39</td>\n",
       "      <td>673</td>\n",
       "      <td>401</td>\n",
       "      <td>8738</td>\n",
       "    </tr>\n",
       "  </tbody>\n",
       "</table>\n",
       "</div>"
      ],
      "text/plain": [
       "   country  points  price  province  region_1  variety  winery\n",
       "0        6      87   13.0        30       486      325    8549\n",
       "1        6      87   65.0        43      1097      300    8684\n",
       "2        5      87   15.0        39       673      401    8738"
      ]
     },
     "execution_count": 73,
     "metadata": {},
     "output_type": "execute_result"
    }
   ],
   "source": [
    "new_wine.head(3)"
   ]
  },
  {
   "cell_type": "code",
   "execution_count": 74,
   "metadata": {
    "collapsed": true
   },
   "outputs": [],
   "source": [
    "X = new_wine.as_matrix()"
   ]
  },
  {
   "cell_type": "code",
   "execution_count": 75,
   "metadata": {},
   "outputs": [
    {
     "data": {
      "text/plain": [
       "(70175, 7)"
      ]
     },
     "execution_count": 75,
     "metadata": {},
     "output_type": "execute_result"
    }
   ],
   "source": [
    "X.shape"
   ]
  },
  {
   "cell_type": "code",
   "execution_count": 76,
   "metadata": {},
   "outputs": [
    {
     "data": {
      "text/plain": [
       "(70175, 513695)"
      ]
     },
     "execution_count": 76,
     "metadata": {},
     "output_type": "execute_result"
    }
   ],
   "source": [
    "tfidf_matrix.shape"
   ]
  },
  {
   "cell_type": "code",
   "execution_count": 77,
   "metadata": {
    "collapsed": true
   },
   "outputs": [],
   "source": [
    "test = sparse.hstack((X, tfidf_matrix))"
   ]
  },
  {
   "cell_type": "code",
   "execution_count": 78,
   "metadata": {
    "collapsed": true
   },
   "outputs": [],
   "source": [
    "test = test.tocsr()"
   ]
  },
  {
   "cell_type": "code",
   "execution_count": 98,
   "metadata": {},
   "outputs": [
    {
     "data": {
      "text/plain": [
       "(70175, 513702)"
      ]
     },
     "execution_count": 98,
     "metadata": {},
     "output_type": "execute_result"
    }
   ],
   "source": [
    "test.shape"
   ]
  },
  {
   "cell_type": "markdown",
   "metadata": {},
   "source": [
    "# Finding the nearest neighbor"
   ]
  },
  {
   "cell_type": "code",
   "execution_count": 101,
   "metadata": {
    "collapsed": true
   },
   "outputs": [],
   "source": [
    "from sklearn.neighbors import NearestNeighbors\n",
    "nbrs = NearestNeighbors(n_neighbors=31, algorithm='auto', metric='euclidean').fit(test)\n",
    "distances, indices = nbrs.kneighbors(test[11])"
   ]
  },
  {
   "cell_type": "code",
   "execution_count": 102,
   "metadata": {},
   "outputs": [
    {
     "name": "stdout",
     "output_type": "stream",
     "text": [
      "[[   0.            0.            7.21040938   56.17803892   64.02331604\n",
      "    64.21057431   67.25310906   67.25315928   70.24948202   75.21299592\n",
      "    75.2129964    75.2129964    78.4601155    89.17955639   92.03251124\n",
      "    93.46649662   97.43201542   97.47818044   98.18342816   98.20373283\n",
      "   100.5683239   100.64292389  104.19688982  104.37422133  108.44806191\n",
      "   108.44806191  108.8668912   109.48938027  109.50337424  112.22741486\n",
      "   112.41439458]]\n",
      "[[55463    11 51053 52908 61037 17469 68448 49462  4641 23890 11122 53031\n",
      "    847 27258 57804 29796 57706 58153 12468 24648 38390 21119 56390 61266\n",
      "  30269 15818 19347 60495 56935 19518 42356]]\n"
     ]
    }
   ],
   "source": [
    "print(distances)\n",
    "print(indices)"
   ]
  },
  {
   "cell_type": "code",
   "execution_count": 105,
   "metadata": {},
   "outputs": [
    {
     "data": {
      "text/plain": [
       "Unnamed: 0                                                              11\n",
       "country                                                             France\n",
       "description              This is a dry wine, very spicy, with a tight, ...\n",
       "designation                                                            NaN\n",
       "points                                                                  87\n",
       "price                                                                   30\n",
       "province                                                            Alsace\n",
       "region_1                                                            Alsace\n",
       "region_2                                                               NaN\n",
       "taster_name                                                     Roger Voss\n",
       "taster_twitter_handle                                           @vossroger\n",
       "title                              Leon Beyer 2012 Gewurztraminer (Alsace)\n",
       "variety                                                     Gewürztraminer\n",
       "winery                                                          Leon Beyer\n",
       "Name: 11, dtype: object"
      ]
     },
     "execution_count": 105,
     "metadata": {},
     "output_type": "execute_result"
    }
   ],
   "source": [
    "wine.iloc[11, :]"
   ]
  },
  {
   "cell_type": "code",
   "execution_count": 104,
   "metadata": {},
   "outputs": [
    {
     "data": {
      "text/plain": [
       "Unnamed: 0                                                           55463\n",
       "country                                                                 US\n",
       "description              This has light scents of peach, golden apple, ...\n",
       "designation                                                     Frosty Dog\n",
       "points                                                                  84\n",
       "price                                                                   20\n",
       "province                                                          Virginia\n",
       "region_1                                                          Virginia\n",
       "region_2                                                               NaN\n",
       "taster_name                                                            NaN\n",
       "taster_twitter_handle                                                  NaN\n",
       "title                    Chateau Morrisette 2011 Frosty Dog White (Virg...\n",
       "variety                                                        White Blend\n",
       "winery                                                  Chateau Morrisette\n",
       "Name: 55463, dtype: object"
      ]
     },
     "execution_count": 104,
     "metadata": {},
     "output_type": "execute_result"
    }
   ],
   "source": [
    "wine.iloc[55463, :]"
   ]
  },
  {
   "cell_type": "code",
   "execution_count": 106,
   "metadata": {},
   "outputs": [
    {
     "data": {
      "text/plain": [
       "Unnamed: 0                                                           51053\n",
       "country                                                                 US\n",
       "description              This wine is mostly Cabernet Sauvignon (71%), ...\n",
       "designation                                               Taptiel Vineyard\n",
       "points                                                                  92\n",
       "price                                                                   45\n",
       "province                                                        Washington\n",
       "region_1                                                      Red Mountain\n",
       "region_2                                                   Columbia Valley\n",
       "taster_name                                               Sean P. Sullivan\n",
       "taster_twitter_handle                                        @wawinereport\n",
       "title                     Cadence 2013 Taptiel Vineyard Red (Red Mountain)\n",
       "variety                                           Bordeaux-style Red Blend\n",
       "winery                                                             Cadence\n",
       "Name: 51053, dtype: object"
      ]
     },
     "execution_count": 106,
     "metadata": {},
     "output_type": "execute_result"
    }
   ],
   "source": [
    "wine.iloc[51053, :]"
   ]
  },
  {
   "cell_type": "code",
   "execution_count": 107,
   "metadata": {},
   "outputs": [
    {
     "data": {
      "text/plain": [
       "\"This is a dry wine, very spicy, with a tight, taut texture and strongly mineral character layered with citrus as well as pepper. It's a food wine with its almost crisp aftertaste.\""
      ]
     },
     "execution_count": 107,
     "metadata": {},
     "output_type": "execute_result"
    }
   ],
   "source": [
    "wine.iloc[11, :]['description']"
   ]
  },
  {
   "cell_type": "code",
   "execution_count": 109,
   "metadata": {},
   "outputs": [
    {
     "data": {
      "text/plain": [
       "'This wine is mostly Cabernet Sauvignon (71%), with the rest Merlot (18%) and Cabernet Franc. Very pure aromas of black cherry and black currant are followed by cranberry and tart fruit flavors surrounded by a firm structure. It shows a lovely sense of restraint and balance, especially considering the warm region and vintage.'"
      ]
     },
     "execution_count": 109,
     "metadata": {},
     "output_type": "execute_result"
    }
   ],
   "source": [
    "wine.iloc[51053, :]['description']"
   ]
  },
  {
   "cell_type": "code",
   "execution_count": 84,
   "metadata": {},
   "outputs": [
    {
     "data": {
      "text/plain": [
       "Unnamed: 0                                                           64126\n",
       "country                                                              Italy\n",
       "description              Mario Schiopetto and his sons, Carlo and Giorg...\n",
       "designation                                                            NaN\n",
       "points                                                                  90\n",
       "price                                                                   35\n",
       "province                                                Northeastern Italy\n",
       "region_1                                                            Collio\n",
       "region_2                                                               NaN\n",
       "taster_name                                                     Roger Voss\n",
       "taster_twitter_handle                                           @vossroger\n",
       "title                          Mario Schiopetto 2001 Pinot Bianco (Collio)\n",
       "variety                                                       Pinot Bianco\n",
       "winery                                                    Mario Schiopetto\n",
       "Name: 64126, dtype: object"
      ]
     },
     "execution_count": 84,
     "metadata": {},
     "output_type": "execute_result"
    }
   ],
   "source": [
    "wine.iloc[64126, :]"
   ]
  },
  {
   "cell_type": "code",
   "execution_count": null,
   "metadata": {
    "collapsed": true
   },
   "outputs": [],
   "source": []
  },
  {
   "cell_type": "code",
   "execution_count": 93,
   "metadata": {},
   "outputs": [
    {
     "name": "stdout",
     "output_type": "stream",
     "text": [
      "0          NaN\n",
      "44059     24.0\n",
      "4467      22.0\n",
      "43036     35.0\n",
      "29884    111.0\n",
      "50855     15.0\n",
      "23790     20.0\n",
      "12361     11.0\n",
      "53202     17.0\n",
      "59848     18.0\n",
      "31300     20.0\n",
      "15204     53.0\n",
      "34762     31.0\n",
      "26342     22.0\n",
      "64081     40.0\n",
      "28747     18.0\n",
      "28809     19.0\n",
      "22393     36.0\n",
      "68106     18.0\n",
      "37426     42.0\n",
      "16058     79.0\n",
      "10037     14.0\n",
      "16113      NaN\n",
      "70026     11.0\n",
      "1974      50.0\n",
      "56615     60.0\n",
      "9310      70.0\n",
      "44060     18.0\n",
      "32811      NaN\n",
      "11590     20.0\n",
      "57842     15.0\n",
      "Name: price, dtype: float64\n"
     ]
    }
   ],
   "source": [
    "for index in indices:\n",
    "    print(wine.iloc[index, :]['price'])"
   ]
  }
 ],
 "metadata": {
  "kernelspec": {
   "display_name": "Python 3",
   "language": "python",
   "name": "python3"
  },
  "language_info": {
   "codemirror_mode": {
    "name": "ipython",
    "version": 3
   },
   "file_extension": ".py",
   "mimetype": "text/x-python",
   "name": "python",
   "nbconvert_exporter": "python",
   "pygments_lexer": "ipython3",
   "version": "3.6.3"
  }
 },
 "nbformat": 4,
 "nbformat_minor": 2
}
